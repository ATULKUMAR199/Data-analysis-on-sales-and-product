{
 "cells": [
  {
   "cell_type": "code",
   "execution_count": 25,
   "id": "5f641618-0f00-4d64-a579-9b2cac9c539e",
   "metadata": {},
   "outputs": [],
   "source": [
    "# importing useful libraries\n",
    "\n",
    "import pandas as pd\n",
    "import matplotlib.pyplot as plt\n",
    "import seaborn as sns\n",
    "import numpy as np"
   ]
  },
  {
   "cell_type": "markdown",
   "id": "44320a26-0b93-456d-a429-4f4f96833a40",
   "metadata": {},
   "source": [
    "## Loading data separtely for each file"
   ]
  },
  {
   "cell_type": "code",
   "execution_count": 26,
   "id": "c153a858-1eb3-4be4-818f-7700bea53df4",
   "metadata": {},
   "outputs": [],
   "source": [
    "trans_df = pd.read_csv(\"Transactions.csv\")"
   ]
  },
  {
   "cell_type": "code",
   "execution_count": 27,
   "id": "497c6cf6-7de5-4b1f-b517-fb133b1b3f65",
   "metadata": {},
   "outputs": [],
   "source": [
    "product_df = pd.read_csv(\"Products.csv\")"
   ]
  },
  {
   "cell_type": "code",
   "execution_count": 28,
   "id": "8f995c0d-f875-472a-838a-90e09b1be39f",
   "metadata": {},
   "outputs": [],
   "source": [
    "custm_df = pd.read_csv(\"Customers.csv\")"
   ]
  },
  {
   "cell_type": "code",
   "execution_count": 29,
   "id": "9232b213-ed30-44ba-a018-8527d68df937",
   "metadata": {},
   "outputs": [
    {
     "data": {
      "text/html": [
       "<div>\n",
       "<style scoped>\n",
       "    .dataframe tbody tr th:only-of-type {\n",
       "        vertical-align: middle;\n",
       "    }\n",
       "\n",
       "    .dataframe tbody tr th {\n",
       "        vertical-align: top;\n",
       "    }\n",
       "\n",
       "    .dataframe thead th {\n",
       "        text-align: right;\n",
       "    }\n",
       "</style>\n",
       "<table border=\"1\" class=\"dataframe\">\n",
       "  <thead>\n",
       "    <tr style=\"text-align: right;\">\n",
       "      <th></th>\n",
       "      <th>TransactionID</th>\n",
       "      <th>CustomerID</th>\n",
       "      <th>ProductID</th>\n",
       "      <th>TransactionDate</th>\n",
       "      <th>Quantity</th>\n",
       "      <th>TotalValue</th>\n",
       "      <th>Price</th>\n",
       "    </tr>\n",
       "  </thead>\n",
       "  <tbody>\n",
       "    <tr>\n",
       "      <th>0</th>\n",
       "      <td>T00001</td>\n",
       "      <td>C0199</td>\n",
       "      <td>P067</td>\n",
       "      <td>2024-08-25 12:38:23</td>\n",
       "      <td>1</td>\n",
       "      <td>300.68</td>\n",
       "      <td>300.68</td>\n",
       "    </tr>\n",
       "    <tr>\n",
       "      <th>1</th>\n",
       "      <td>T00112</td>\n",
       "      <td>C0146</td>\n",
       "      <td>P067</td>\n",
       "      <td>2024-05-27 22:23:54</td>\n",
       "      <td>1</td>\n",
       "      <td>300.68</td>\n",
       "      <td>300.68</td>\n",
       "    </tr>\n",
       "    <tr>\n",
       "      <th>2</th>\n",
       "      <td>T00166</td>\n",
       "      <td>C0127</td>\n",
       "      <td>P067</td>\n",
       "      <td>2024-04-25 07:38:55</td>\n",
       "      <td>1</td>\n",
       "      <td>300.68</td>\n",
       "      <td>300.68</td>\n",
       "    </tr>\n",
       "    <tr>\n",
       "      <th>3</th>\n",
       "      <td>T00272</td>\n",
       "      <td>C0087</td>\n",
       "      <td>P067</td>\n",
       "      <td>2024-03-26 22:55:37</td>\n",
       "      <td>2</td>\n",
       "      <td>601.36</td>\n",
       "      <td>300.68</td>\n",
       "    </tr>\n",
       "    <tr>\n",
       "      <th>4</th>\n",
       "      <td>T00363</td>\n",
       "      <td>C0070</td>\n",
       "      <td>P067</td>\n",
       "      <td>2024-03-21 15:10:10</td>\n",
       "      <td>3</td>\n",
       "      <td>902.04</td>\n",
       "      <td>300.68</td>\n",
       "    </tr>\n",
       "  </tbody>\n",
       "</table>\n",
       "</div>"
      ],
      "text/plain": [
       "  TransactionID CustomerID ProductID      TransactionDate  Quantity  \\\n",
       "0        T00001      C0199      P067  2024-08-25 12:38:23         1   \n",
       "1        T00112      C0146      P067  2024-05-27 22:23:54         1   \n",
       "2        T00166      C0127      P067  2024-04-25 07:38:55         1   \n",
       "3        T00272      C0087      P067  2024-03-26 22:55:37         2   \n",
       "4        T00363      C0070      P067  2024-03-21 15:10:10         3   \n",
       "\n",
       "   TotalValue   Price  \n",
       "0      300.68  300.68  \n",
       "1      300.68  300.68  \n",
       "2      300.68  300.68  \n",
       "3      601.36  300.68  \n",
       "4      902.04  300.68  "
      ]
     },
     "execution_count": 29,
     "metadata": {},
     "output_type": "execute_result"
    }
   ],
   "source": [
    "trans_df.head()"
   ]
  },
  {
   "cell_type": "markdown",
   "id": "e3d4f5a0-330b-4ca5-8c32-92d625b7caf2",
   "metadata": {},
   "source": [
    "## checking for shape, null values, duplicates values for each file."
   ]
  },
  {
   "cell_type": "code",
   "execution_count": 30,
   "id": "e31f76d5-3aa0-4951-bbd4-f027df875596",
   "metadata": {},
   "outputs": [
    {
     "data": {
      "text/plain": [
       "(1000, 7)"
      ]
     },
     "execution_count": 30,
     "metadata": {},
     "output_type": "execute_result"
    }
   ],
   "source": [
    "trans_df.shape"
   ]
  },
  {
   "cell_type": "code",
   "execution_count": 31,
   "id": "28680a00-e9d6-48da-8a05-a76abe97ee88",
   "metadata": {},
   "outputs": [
    {
     "data": {
      "text/plain": [
       "TransactionID      0\n",
       "CustomerID         0\n",
       "ProductID          0\n",
       "TransactionDate    0\n",
       "Quantity           0\n",
       "TotalValue         0\n",
       "Price              0\n",
       "dtype: int64"
      ]
     },
     "execution_count": 31,
     "metadata": {},
     "output_type": "execute_result"
    }
   ],
   "source": [
    "trans_df.isnull().sum()"
   ]
  },
  {
   "cell_type": "code",
   "execution_count": 32,
   "id": "bb563347-b7e5-420e-840f-628f606486ae",
   "metadata": {},
   "outputs": [
    {
     "data": {
      "text/plain": [
       "0"
      ]
     },
     "execution_count": 32,
     "metadata": {},
     "output_type": "execute_result"
    }
   ],
   "source": [
    "trans_df.duplicated().sum()"
   ]
  },
  {
   "cell_type": "code",
   "execution_count": 33,
   "id": "60e54016-2580-44f8-ae03-412374dbb11d",
   "metadata": {},
   "outputs": [
    {
     "data": {
      "text/html": [
       "<div>\n",
       "<style scoped>\n",
       "    .dataframe tbody tr th:only-of-type {\n",
       "        vertical-align: middle;\n",
       "    }\n",
       "\n",
       "    .dataframe tbody tr th {\n",
       "        vertical-align: top;\n",
       "    }\n",
       "\n",
       "    .dataframe thead th {\n",
       "        text-align: right;\n",
       "    }\n",
       "</style>\n",
       "<table border=\"1\" class=\"dataframe\">\n",
       "  <thead>\n",
       "    <tr style=\"text-align: right;\">\n",
       "      <th></th>\n",
       "      <th>ProductID</th>\n",
       "      <th>ProductName</th>\n",
       "      <th>Category</th>\n",
       "      <th>Price</th>\n",
       "    </tr>\n",
       "  </thead>\n",
       "  <tbody>\n",
       "    <tr>\n",
       "      <th>0</th>\n",
       "      <td>P001</td>\n",
       "      <td>ActiveWear Biography</td>\n",
       "      <td>Books</td>\n",
       "      <td>169.30</td>\n",
       "    </tr>\n",
       "    <tr>\n",
       "      <th>1</th>\n",
       "      <td>P002</td>\n",
       "      <td>ActiveWear Smartwatch</td>\n",
       "      <td>Electronics</td>\n",
       "      <td>346.30</td>\n",
       "    </tr>\n",
       "    <tr>\n",
       "      <th>2</th>\n",
       "      <td>P003</td>\n",
       "      <td>ComfortLiving Biography</td>\n",
       "      <td>Books</td>\n",
       "      <td>44.12</td>\n",
       "    </tr>\n",
       "    <tr>\n",
       "      <th>3</th>\n",
       "      <td>P004</td>\n",
       "      <td>BookWorld Rug</td>\n",
       "      <td>Home Decor</td>\n",
       "      <td>95.69</td>\n",
       "    </tr>\n",
       "    <tr>\n",
       "      <th>4</th>\n",
       "      <td>P005</td>\n",
       "      <td>TechPro T-Shirt</td>\n",
       "      <td>Clothing</td>\n",
       "      <td>429.31</td>\n",
       "    </tr>\n",
       "  </tbody>\n",
       "</table>\n",
       "</div>"
      ],
      "text/plain": [
       "  ProductID              ProductName     Category   Price\n",
       "0      P001     ActiveWear Biography        Books  169.30\n",
       "1      P002    ActiveWear Smartwatch  Electronics  346.30\n",
       "2      P003  ComfortLiving Biography        Books   44.12\n",
       "3      P004            BookWorld Rug   Home Decor   95.69\n",
       "4      P005          TechPro T-Shirt     Clothing  429.31"
      ]
     },
     "execution_count": 33,
     "metadata": {},
     "output_type": "execute_result"
    }
   ],
   "source": [
    "product_df.head()"
   ]
  },
  {
   "cell_type": "code",
   "execution_count": 34,
   "id": "c6d62653-c4db-435f-aedb-c0cabba5e720",
   "metadata": {},
   "outputs": [
    {
     "data": {
      "text/plain": [
       "ProductID      0\n",
       "ProductName    0\n",
       "Category       0\n",
       "Price          0\n",
       "dtype: int64"
      ]
     },
     "execution_count": 34,
     "metadata": {},
     "output_type": "execute_result"
    }
   ],
   "source": [
    "product_df.isnull().sum()"
   ]
  },
  {
   "cell_type": "code",
   "execution_count": 35,
   "id": "6d1f428a-3d21-4673-b033-0a00d0a31ad0",
   "metadata": {},
   "outputs": [
    {
     "data": {
      "text/plain": [
       "0"
      ]
     },
     "execution_count": 35,
     "metadata": {},
     "output_type": "execute_result"
    }
   ],
   "source": [
    "product_df.duplicated().sum()"
   ]
  },
  {
   "cell_type": "code",
   "execution_count": 36,
   "id": "b06c3390-5679-403a-be34-d39873bbef02",
   "metadata": {},
   "outputs": [
    {
     "data": {
      "text/plain": [
       "(100, 4)"
      ]
     },
     "execution_count": 36,
     "metadata": {},
     "output_type": "execute_result"
    }
   ],
   "source": [
    "product_df.shape"
   ]
  },
  {
   "cell_type": "code",
   "execution_count": 37,
   "id": "09892952-2db2-44f6-8d00-0644187b4d8b",
   "metadata": {},
   "outputs": [
    {
     "data": {
      "text/html": [
       "<div>\n",
       "<style scoped>\n",
       "    .dataframe tbody tr th:only-of-type {\n",
       "        vertical-align: middle;\n",
       "    }\n",
       "\n",
       "    .dataframe tbody tr th {\n",
       "        vertical-align: top;\n",
       "    }\n",
       "\n",
       "    .dataframe thead th {\n",
       "        text-align: right;\n",
       "    }\n",
       "</style>\n",
       "<table border=\"1\" class=\"dataframe\">\n",
       "  <thead>\n",
       "    <tr style=\"text-align: right;\">\n",
       "      <th></th>\n",
       "      <th>CustomerID</th>\n",
       "      <th>CustomerName</th>\n",
       "      <th>Region</th>\n",
       "      <th>SignupDate</th>\n",
       "    </tr>\n",
       "  </thead>\n",
       "  <tbody>\n",
       "    <tr>\n",
       "      <th>0</th>\n",
       "      <td>C0001</td>\n",
       "      <td>Lawrence Carroll</td>\n",
       "      <td>South America</td>\n",
       "      <td>2022-07-10</td>\n",
       "    </tr>\n",
       "    <tr>\n",
       "      <th>1</th>\n",
       "      <td>C0002</td>\n",
       "      <td>Elizabeth Lutz</td>\n",
       "      <td>Asia</td>\n",
       "      <td>2022-02-13</td>\n",
       "    </tr>\n",
       "    <tr>\n",
       "      <th>2</th>\n",
       "      <td>C0003</td>\n",
       "      <td>Michael Rivera</td>\n",
       "      <td>South America</td>\n",
       "      <td>2024-03-07</td>\n",
       "    </tr>\n",
       "    <tr>\n",
       "      <th>3</th>\n",
       "      <td>C0004</td>\n",
       "      <td>Kathleen Rodriguez</td>\n",
       "      <td>South America</td>\n",
       "      <td>2022-10-09</td>\n",
       "    </tr>\n",
       "    <tr>\n",
       "      <th>4</th>\n",
       "      <td>C0005</td>\n",
       "      <td>Laura Weber</td>\n",
       "      <td>Asia</td>\n",
       "      <td>2022-08-15</td>\n",
       "    </tr>\n",
       "  </tbody>\n",
       "</table>\n",
       "</div>"
      ],
      "text/plain": [
       "  CustomerID        CustomerName         Region  SignupDate\n",
       "0      C0001    Lawrence Carroll  South America  2022-07-10\n",
       "1      C0002      Elizabeth Lutz           Asia  2022-02-13\n",
       "2      C0003      Michael Rivera  South America  2024-03-07\n",
       "3      C0004  Kathleen Rodriguez  South America  2022-10-09\n",
       "4      C0005         Laura Weber           Asia  2022-08-15"
      ]
     },
     "execution_count": 37,
     "metadata": {},
     "output_type": "execute_result"
    }
   ],
   "source": [
    "custm_df.head()"
   ]
  },
  {
   "cell_type": "code",
   "execution_count": 38,
   "id": "ba4ee0b4-4358-41f5-a4df-b9b00a995f36",
   "metadata": {},
   "outputs": [
    {
     "data": {
      "text/plain": [
       "(200, 4)"
      ]
     },
     "execution_count": 38,
     "metadata": {},
     "output_type": "execute_result"
    }
   ],
   "source": [
    "custm_df.shape"
   ]
  },
  {
   "cell_type": "code",
   "execution_count": 39,
   "id": "50c4c230-5cbc-419c-a99d-33c17c6ed1c2",
   "metadata": {},
   "outputs": [
    {
     "data": {
      "text/plain": [
       "CustomerID      0\n",
       "CustomerName    0\n",
       "Region          0\n",
       "SignupDate      0\n",
       "dtype: int64"
      ]
     },
     "execution_count": 39,
     "metadata": {},
     "output_type": "execute_result"
    }
   ],
   "source": [
    "custm_df.isnull().sum()"
   ]
  },
  {
   "cell_type": "code",
   "execution_count": 40,
   "id": "54160a93-bee2-4d8f-bddd-d9e5c38b682e",
   "metadata": {},
   "outputs": [
    {
     "data": {
      "text/plain": [
       "0"
      ]
     },
     "execution_count": 40,
     "metadata": {},
     "output_type": "execute_result"
    }
   ],
   "source": [
    "custm_df.duplicated().sum()"
   ]
  },
  {
   "cell_type": "code",
   "execution_count": 41,
   "id": "8c87d14d-2780-4263-821b-ba54c68339af",
   "metadata": {},
   "outputs": [],
   "source": [
    "# custm_df['SignupDate'] = pd.to_datetime(final_df['SignupDate'])"
   ]
  },
  {
   "cell_type": "markdown",
   "id": "dc153ea3-ae32-4c36-a521-aedac7daf1bb",
   "metadata": {},
   "source": [
    "## Merging all datasets into one based on their category"
   ]
  },
  {
   "cell_type": "code",
   "execution_count": 42,
   "id": "a93169dd-0da8-49fb-a0b3-d441c441ab79",
   "metadata": {},
   "outputs": [],
   "source": [
    "combine_df = pd.merge(trans_df,product_df, on=\"ProductID\", how=\"left\")"
   ]
  },
  {
   "cell_type": "code",
   "execution_count": 43,
   "id": "d2c7e930-9e4c-43bd-87ca-c709c33cc4bf",
   "metadata": {},
   "outputs": [
    {
     "data": {
      "text/html": [
       "<div>\n",
       "<style scoped>\n",
       "    .dataframe tbody tr th:only-of-type {\n",
       "        vertical-align: middle;\n",
       "    }\n",
       "\n",
       "    .dataframe tbody tr th {\n",
       "        vertical-align: top;\n",
       "    }\n",
       "\n",
       "    .dataframe thead th {\n",
       "        text-align: right;\n",
       "    }\n",
       "</style>\n",
       "<table border=\"1\" class=\"dataframe\">\n",
       "  <thead>\n",
       "    <tr style=\"text-align: right;\">\n",
       "      <th></th>\n",
       "      <th>TransactionID</th>\n",
       "      <th>CustomerID</th>\n",
       "      <th>ProductID</th>\n",
       "      <th>TransactionDate</th>\n",
       "      <th>Quantity</th>\n",
       "      <th>TotalValue</th>\n",
       "      <th>Price_x</th>\n",
       "      <th>ProductName</th>\n",
       "      <th>Category</th>\n",
       "      <th>Price_y</th>\n",
       "    </tr>\n",
       "  </thead>\n",
       "  <tbody>\n",
       "    <tr>\n",
       "      <th>0</th>\n",
       "      <td>T00001</td>\n",
       "      <td>C0199</td>\n",
       "      <td>P067</td>\n",
       "      <td>2024-08-25 12:38:23</td>\n",
       "      <td>1</td>\n",
       "      <td>300.68</td>\n",
       "      <td>300.68</td>\n",
       "      <td>ComfortLiving Bluetooth Speaker</td>\n",
       "      <td>Electronics</td>\n",
       "      <td>300.68</td>\n",
       "    </tr>\n",
       "    <tr>\n",
       "      <th>1</th>\n",
       "      <td>T00112</td>\n",
       "      <td>C0146</td>\n",
       "      <td>P067</td>\n",
       "      <td>2024-05-27 22:23:54</td>\n",
       "      <td>1</td>\n",
       "      <td>300.68</td>\n",
       "      <td>300.68</td>\n",
       "      <td>ComfortLiving Bluetooth Speaker</td>\n",
       "      <td>Electronics</td>\n",
       "      <td>300.68</td>\n",
       "    </tr>\n",
       "    <tr>\n",
       "      <th>2</th>\n",
       "      <td>T00166</td>\n",
       "      <td>C0127</td>\n",
       "      <td>P067</td>\n",
       "      <td>2024-04-25 07:38:55</td>\n",
       "      <td>1</td>\n",
       "      <td>300.68</td>\n",
       "      <td>300.68</td>\n",
       "      <td>ComfortLiving Bluetooth Speaker</td>\n",
       "      <td>Electronics</td>\n",
       "      <td>300.68</td>\n",
       "    </tr>\n",
       "    <tr>\n",
       "      <th>3</th>\n",
       "      <td>T00272</td>\n",
       "      <td>C0087</td>\n",
       "      <td>P067</td>\n",
       "      <td>2024-03-26 22:55:37</td>\n",
       "      <td>2</td>\n",
       "      <td>601.36</td>\n",
       "      <td>300.68</td>\n",
       "      <td>ComfortLiving Bluetooth Speaker</td>\n",
       "      <td>Electronics</td>\n",
       "      <td>300.68</td>\n",
       "    </tr>\n",
       "    <tr>\n",
       "      <th>4</th>\n",
       "      <td>T00363</td>\n",
       "      <td>C0070</td>\n",
       "      <td>P067</td>\n",
       "      <td>2024-03-21 15:10:10</td>\n",
       "      <td>3</td>\n",
       "      <td>902.04</td>\n",
       "      <td>300.68</td>\n",
       "      <td>ComfortLiving Bluetooth Speaker</td>\n",
       "      <td>Electronics</td>\n",
       "      <td>300.68</td>\n",
       "    </tr>\n",
       "  </tbody>\n",
       "</table>\n",
       "</div>"
      ],
      "text/plain": [
       "  TransactionID CustomerID ProductID      TransactionDate  Quantity  \\\n",
       "0        T00001      C0199      P067  2024-08-25 12:38:23         1   \n",
       "1        T00112      C0146      P067  2024-05-27 22:23:54         1   \n",
       "2        T00166      C0127      P067  2024-04-25 07:38:55         1   \n",
       "3        T00272      C0087      P067  2024-03-26 22:55:37         2   \n",
       "4        T00363      C0070      P067  2024-03-21 15:10:10         3   \n",
       "\n",
       "   TotalValue  Price_x                      ProductName     Category  Price_y  \n",
       "0      300.68   300.68  ComfortLiving Bluetooth Speaker  Electronics   300.68  \n",
       "1      300.68   300.68  ComfortLiving Bluetooth Speaker  Electronics   300.68  \n",
       "2      300.68   300.68  ComfortLiving Bluetooth Speaker  Electronics   300.68  \n",
       "3      601.36   300.68  ComfortLiving Bluetooth Speaker  Electronics   300.68  \n",
       "4      902.04   300.68  ComfortLiving Bluetooth Speaker  Electronics   300.68  "
      ]
     },
     "execution_count": 43,
     "metadata": {},
     "output_type": "execute_result"
    }
   ],
   "source": [
    "combine_df.head()"
   ]
  },
  {
   "cell_type": "code",
   "execution_count": 44,
   "id": "6261ab22-9e5c-4b37-8e04-b19489f14265",
   "metadata": {},
   "outputs": [],
   "source": [
    "final_df = pd.merge(combine_df, custm_df, on=\"CustomerID\", how=\"left\")"
   ]
  },
  {
   "cell_type": "code",
   "execution_count": 45,
   "id": "cae23793-7ef7-43e6-8d9f-ab61fc442f56",
   "metadata": {},
   "outputs": [
    {
     "data": {
      "text/html": [
       "<div>\n",
       "<style scoped>\n",
       "    .dataframe tbody tr th:only-of-type {\n",
       "        vertical-align: middle;\n",
       "    }\n",
       "\n",
       "    .dataframe tbody tr th {\n",
       "        vertical-align: top;\n",
       "    }\n",
       "\n",
       "    .dataframe thead th {\n",
       "        text-align: right;\n",
       "    }\n",
       "</style>\n",
       "<table border=\"1\" class=\"dataframe\">\n",
       "  <thead>\n",
       "    <tr style=\"text-align: right;\">\n",
       "      <th></th>\n",
       "      <th>TransactionID</th>\n",
       "      <th>CustomerID</th>\n",
       "      <th>ProductID</th>\n",
       "      <th>TransactionDate</th>\n",
       "      <th>Quantity</th>\n",
       "      <th>TotalValue</th>\n",
       "      <th>Price_x</th>\n",
       "      <th>ProductName</th>\n",
       "      <th>Category</th>\n",
       "      <th>Price_y</th>\n",
       "      <th>CustomerName</th>\n",
       "      <th>Region</th>\n",
       "      <th>SignupDate</th>\n",
       "    </tr>\n",
       "  </thead>\n",
       "  <tbody>\n",
       "    <tr>\n",
       "      <th>0</th>\n",
       "      <td>T00001</td>\n",
       "      <td>C0199</td>\n",
       "      <td>P067</td>\n",
       "      <td>2024-08-25 12:38:23</td>\n",
       "      <td>1</td>\n",
       "      <td>300.68</td>\n",
       "      <td>300.68</td>\n",
       "      <td>ComfortLiving Bluetooth Speaker</td>\n",
       "      <td>Electronics</td>\n",
       "      <td>300.68</td>\n",
       "      <td>Andrea Jenkins</td>\n",
       "      <td>Europe</td>\n",
       "      <td>2022-12-03</td>\n",
       "    </tr>\n",
       "    <tr>\n",
       "      <th>1</th>\n",
       "      <td>T00112</td>\n",
       "      <td>C0146</td>\n",
       "      <td>P067</td>\n",
       "      <td>2024-05-27 22:23:54</td>\n",
       "      <td>1</td>\n",
       "      <td>300.68</td>\n",
       "      <td>300.68</td>\n",
       "      <td>ComfortLiving Bluetooth Speaker</td>\n",
       "      <td>Electronics</td>\n",
       "      <td>300.68</td>\n",
       "      <td>Brittany Harvey</td>\n",
       "      <td>Asia</td>\n",
       "      <td>2024-09-04</td>\n",
       "    </tr>\n",
       "    <tr>\n",
       "      <th>2</th>\n",
       "      <td>T00166</td>\n",
       "      <td>C0127</td>\n",
       "      <td>P067</td>\n",
       "      <td>2024-04-25 07:38:55</td>\n",
       "      <td>1</td>\n",
       "      <td>300.68</td>\n",
       "      <td>300.68</td>\n",
       "      <td>ComfortLiving Bluetooth Speaker</td>\n",
       "      <td>Electronics</td>\n",
       "      <td>300.68</td>\n",
       "      <td>Kathryn Stevens</td>\n",
       "      <td>Europe</td>\n",
       "      <td>2024-04-04</td>\n",
       "    </tr>\n",
       "    <tr>\n",
       "      <th>3</th>\n",
       "      <td>T00272</td>\n",
       "      <td>C0087</td>\n",
       "      <td>P067</td>\n",
       "      <td>2024-03-26 22:55:37</td>\n",
       "      <td>2</td>\n",
       "      <td>601.36</td>\n",
       "      <td>300.68</td>\n",
       "      <td>ComfortLiving Bluetooth Speaker</td>\n",
       "      <td>Electronics</td>\n",
       "      <td>300.68</td>\n",
       "      <td>Travis Campbell</td>\n",
       "      <td>South America</td>\n",
       "      <td>2024-04-11</td>\n",
       "    </tr>\n",
       "    <tr>\n",
       "      <th>4</th>\n",
       "      <td>T00363</td>\n",
       "      <td>C0070</td>\n",
       "      <td>P067</td>\n",
       "      <td>2024-03-21 15:10:10</td>\n",
       "      <td>3</td>\n",
       "      <td>902.04</td>\n",
       "      <td>300.68</td>\n",
       "      <td>ComfortLiving Bluetooth Speaker</td>\n",
       "      <td>Electronics</td>\n",
       "      <td>300.68</td>\n",
       "      <td>Timothy Perez</td>\n",
       "      <td>Europe</td>\n",
       "      <td>2022-03-15</td>\n",
       "    </tr>\n",
       "  </tbody>\n",
       "</table>\n",
       "</div>"
      ],
      "text/plain": [
       "  TransactionID CustomerID ProductID      TransactionDate  Quantity  \\\n",
       "0        T00001      C0199      P067  2024-08-25 12:38:23         1   \n",
       "1        T00112      C0146      P067  2024-05-27 22:23:54         1   \n",
       "2        T00166      C0127      P067  2024-04-25 07:38:55         1   \n",
       "3        T00272      C0087      P067  2024-03-26 22:55:37         2   \n",
       "4        T00363      C0070      P067  2024-03-21 15:10:10         3   \n",
       "\n",
       "   TotalValue  Price_x                      ProductName     Category  Price_y  \\\n",
       "0      300.68   300.68  ComfortLiving Bluetooth Speaker  Electronics   300.68   \n",
       "1      300.68   300.68  ComfortLiving Bluetooth Speaker  Electronics   300.68   \n",
       "2      300.68   300.68  ComfortLiving Bluetooth Speaker  Electronics   300.68   \n",
       "3      601.36   300.68  ComfortLiving Bluetooth Speaker  Electronics   300.68   \n",
       "4      902.04   300.68  ComfortLiving Bluetooth Speaker  Electronics   300.68   \n",
       "\n",
       "      CustomerName         Region  SignupDate  \n",
       "0   Andrea Jenkins         Europe  2022-12-03  \n",
       "1  Brittany Harvey           Asia  2024-09-04  \n",
       "2  Kathryn Stevens         Europe  2024-04-04  \n",
       "3  Travis Campbell  South America  2024-04-11  \n",
       "4    Timothy Perez         Europe  2022-03-15  "
      ]
     },
     "execution_count": 45,
     "metadata": {},
     "output_type": "execute_result"
    }
   ],
   "source": [
    "final_df.head()"
   ]
  },
  {
   "cell_type": "code",
   "execution_count": 46,
   "id": "55280b05-b1df-477d-83ff-6baa2fdec274",
   "metadata": {},
   "outputs": [
    {
     "data": {
      "text/plain": [
       "TransactionID      0\n",
       "CustomerID         0\n",
       "ProductID          0\n",
       "TransactionDate    0\n",
       "Quantity           0\n",
       "TotalValue         0\n",
       "Price_x            0\n",
       "ProductName        0\n",
       "Category           0\n",
       "Price_y            0\n",
       "CustomerName       0\n",
       "Region             0\n",
       "SignupDate         0\n",
       "dtype: int64"
      ]
     },
     "execution_count": 46,
     "metadata": {},
     "output_type": "execute_result"
    }
   ],
   "source": [
    "final_df.isnull().sum()"
   ]
  },
  {
   "cell_type": "code",
   "execution_count": 47,
   "id": "cf2c7e11-1c18-4ee9-97bd-a5460cfc9928",
   "metadata": {},
   "outputs": [
    {
     "data": {
      "text/plain": [
       "Index(['TransactionID', 'CustomerID', 'ProductID', 'TransactionDate',\n",
       "       'Quantity', 'TotalValue', 'Price_x', 'ProductName', 'Category',\n",
       "       'Price_y', 'CustomerName', 'Region', 'SignupDate'],\n",
       "      dtype='object')"
      ]
     },
     "execution_count": 47,
     "metadata": {},
     "output_type": "execute_result"
    }
   ],
   "source": [
    "final_df.columns"
   ]
  },
  {
   "cell_type": "code",
   "execution_count": 48,
   "id": "b522b850-ea81-411c-95f1-2ef5cb2730bd",
   "metadata": {},
   "outputs": [
    {
     "data": {
      "text/plain": [
       "0"
      ]
     },
     "execution_count": 48,
     "metadata": {},
     "output_type": "execute_result"
    }
   ],
   "source": [
    "final_df.duplicated().sum()"
   ]
  },
  {
   "cell_type": "code",
   "execution_count": 49,
   "id": "21ddaea5-fad4-4a98-b3de-7c98e599b8c8",
   "metadata": {},
   "outputs": [
    {
     "data": {
      "text/plain": [
       "TransactionID       object\n",
       "CustomerID          object\n",
       "ProductID           object\n",
       "TransactionDate     object\n",
       "Quantity             int64\n",
       "TotalValue         float64\n",
       "Price_x            float64\n",
       "ProductName         object\n",
       "Category            object\n",
       "Price_y            float64\n",
       "CustomerName        object\n",
       "Region              object\n",
       "SignupDate          object\n",
       "dtype: object"
      ]
     },
     "execution_count": 49,
     "metadata": {},
     "output_type": "execute_result"
    }
   ],
   "source": [
    "final_df.dtypes"
   ]
  },
  {
   "cell_type": "markdown",
   "id": "4344eecc-d774-4277-82db-e8f488ccefbf",
   "metadata": {},
   "source": [
    "### Here signupDate and TransactionDate are in object so need to change it into date formate."
   ]
  },
  {
   "cell_type": "code",
   "execution_count": 50,
   "id": "a0f69006-04c9-46f4-94d4-7f7573952d4a",
   "metadata": {},
   "outputs": [],
   "source": [
    "final_df['TransactionDate'] = pd.to_datetime(final_df['TransactionDate'])\n",
    "final_df['SignupDate'] = pd.to_datetime(final_df['SignupDate'])\n"
   ]
  },
  {
   "cell_type": "code",
   "execution_count": 51,
   "id": "f51098fc-9acd-4b72-9eec-1f8823715c1e",
   "metadata": {},
   "outputs": [
    {
     "data": {
      "text/plain": [
       "TransactionID              object\n",
       "CustomerID                 object\n",
       "ProductID                  object\n",
       "TransactionDate    datetime64[ns]\n",
       "Quantity                    int64\n",
       "TotalValue                float64\n",
       "Price_x                   float64\n",
       "ProductName                object\n",
       "Category                   object\n",
       "Price_y                   float64\n",
       "CustomerName               object\n",
       "Region                     object\n",
       "SignupDate         datetime64[ns]\n",
       "dtype: object"
      ]
     },
     "execution_count": 51,
     "metadata": {},
     "output_type": "execute_result"
    }
   ],
   "source": [
    "final_df.dtypes"
   ]
  },
  {
   "cell_type": "markdown",
   "id": "fcaf327b-b78d-4981-b9bc-0baf80df5dc7",
   "metadata": {},
   "source": [
    "# finding region wise customer distribution"
   ]
  },
  {
   "cell_type": "code",
   "execution_count": 52,
   "id": "29f7dbe4-103f-4a30-9546-7374e8a006f7",
   "metadata": {},
   "outputs": [
    {
     "data": {
      "text/plain": [
       "Region\n",
       "South America    304\n",
       "North America    244\n",
       "Europe           234\n",
       "Asia             218\n",
       "Name: count, dtype: int64"
      ]
     },
     "metadata": {},
     "output_type": "display_data"
    }
   ],
   "source": [
    "custm_dist = final_df['Region'].value_counts()\n",
    "display(custm_dist)\n"
   ]
  },
  {
   "cell_type": "code",
   "execution_count": 53,
   "id": "50a99192-fad8-4cf5-af15-c6528fb81810",
   "metadata": {},
   "outputs": [],
   "source": [
    "# Here we can see high number of customer is distributed in South America followed by North America\n",
    "# Marketing team has to give more efforts in rest of the region as the sellings are not good as North America, so promote product to attract customer towards the products by different market strategies"
   ]
  },
  {
   "cell_type": "code",
   "execution_count": 54,
   "id": "5bfe853e-e0ff-4173-9044-cc590f4ee586",
   "metadata": {},
   "outputs": [
    {
     "name": "stderr",
     "output_type": "stream",
     "text": [
      "C:\\Users\\Lenovo\\AppData\\Local\\Temp\\ipykernel_2188\\2608614170.py:2: FutureWarning: \n",
      "\n",
      "Passing `palette` without assigning `hue` is deprecated and will be removed in v0.14.0. Assign the `y` variable to `hue` and set `legend=False` for the same effect.\n",
      "\n",
      "  sns.countplot(data=final_df, y='Region', order=custm_dist.index, palette='Set2')\n"
     ]
    },
    {
     "data": {
      "image/png": "[encoded data removed]",
      "text/plain": [
       "<Figure size 640x480 with 1 Axes>"
      ]
     },
     "metadata": {},
     "output_type": "display_data"
    }
   ],
   "source": [
    "\n",
    "# Use the 'Set2' palette or any other you prefer\n",
    "sns.countplot(data=final_df, y='Region', order=custm_dist.index, palette='Set2')\n",
    "\n",
    "# Add a title\n",
    "plt.title(\"Region-wise Customer Distribution\")\n",
    "\n",
    "# Show the plot\n",
    "plt.show()\n"
   ]
  },
  {
   "cell_type": "markdown",
   "id": "8024a8e8-c03d-43e9-b4c9-faa205cda75c",
   "metadata": {},
   "source": [
    "### product analysis"
   ]
  },
  {
   "cell_type": "code",
   "execution_count": 55,
   "id": "acecdd42-8938-41f9-b36b-c8bfad45b7d2",
   "metadata": {},
   "outputs": [
    {
     "name": "stdout",
     "output_type": "stream",
     "text": [
      "\n",
      "Top-selling Product Categories:\n"
     ]
    },
    {
     "data": {
      "text/plain": [
       "Category\n",
       "Books          270\n",
       "Electronics    254\n",
       "Home Decor     248\n",
       "Clothing       228\n",
       "Name: count, dtype: int64"
      ]
     },
     "metadata": {},
     "output_type": "display_data"
    }
   ],
   "source": [
    "print(\"\\nTop-selling Product Categories:\")\n",
    "\n",
    "\n",
    "top_product = final_df['Category'].value_counts()\n",
    "display(top_product)"
   ]
  },
  {
   "cell_type": "code",
   "execution_count": 56,
   "id": "964c5aac-a132-4b05-935b-ac6c18e36f03",
   "metadata": {},
   "outputs": [
    {
     "name": "stderr",
     "output_type": "stream",
     "text": [
      "C:\\Users\\Lenovo\\AppData\\Local\\Temp\\ipykernel_2188\\2084253007.py:3: FutureWarning: \n",
      "\n",
      "Passing `palette` without assigning `hue` is deprecated and will be removed in v0.14.0. Assign the `y` variable to `hue` and set `legend=False` for the same effect.\n",
      "\n",
      "  sns.barplot(x=top_product.values, y=top_product.index,palette = color)\n"
     ]
    },
    {
     "data": {
      "image/png": "[encoded data removed]",
      "text/plain": [
       "<Figure size 640x480 with 1 Axes>"
      ]
     },
     "metadata": {},
     "output_type": "display_data"
    }
   ],
   "source": [
    "# Visualize top categories\n",
    "color = ('red','orange','blue','yellow')\n",
    "sns.barplot(x=top_product.values, y=top_product.index,palette = color)\n",
    "plt.title(\"Top-selling Product Categories\")\n",
    "plt.xlabel(\"Number of Products Sold\")\n",
    "plt.show()"
   ]
  },
  {
   "cell_type": "markdown",
   "id": "d4da472d-0c09-40d7-861d-2690a1971c12",
   "metadata": {},
   "source": [
    "## Transaction analysis"
   ]
  },
  {
   "cell_type": "code",
   "execution_count": 57,
   "id": "46a91290-5516-4a5c-abe6-3dcdfe7d5252",
   "metadata": {},
   "outputs": [
    {
     "data": {
      "text/plain": [
       "Month\n",
       "2023-12     3769.52\n",
       "2024-01    66376.39\n",
       "2024-02    51459.27\n",
       "2024-03    47828.73\n",
       "2024-04    57519.06\n",
       "2024-05    64527.74\n",
       "2024-06    48771.18\n",
       "2024-07    71366.39\n",
       "2024-08    63436.74\n",
       "2024-09    70603.75\n",
       "2024-10    47063.22\n",
       "2024-11    38224.37\n",
       "2024-12    59049.20\n",
       "Freq: M, Name: TotalValue, dtype: float64"
      ]
     },
     "execution_count": 57,
     "metadata": {},
     "output_type": "execute_result"
    }
   ],
   "source": [
    "# Monthly revenue analysis\n",
    "\n",
    "final_df['Month'] = final_df['TransactionDate'].dt.to_period('M')\n",
    "monthly_revenue = final_df.groupby('Month')['TotalValue'].sum()\n",
    "monthly_revenue"
   ]
  },
  {
   "cell_type": "code",
   "execution_count": 58,
   "id": "f3eee907-b2ec-4931-a36c-1bc02ad65397",
   "metadata": {},
   "outputs": [
    {
     "data": {
      "image/png": "[encoded data removed]",
      "text/plain": [
       "<Figure size 1000x500 with 1 Axes>"
      ]
     },
     "metadata": {},
     "output_type": "display_data"
    }
   ],
   "source": [
    "# Monthly revenue analysis via graph\n",
    "color = ('green')\n",
    "monthly_revenue.plot(kind='line', figsize=(10, 5), marker='+',color = 'yellow', markerfacecolor='black', markeredgecolor='black')\n",
    "plt.title(\"Monthly Revenue Trend\")\n",
    "plt.ylabel(\"Total Revenue\")\n",
    "plt.show()\n"
   ]
  },
  {
   "cell_type": "markdown",
   "id": "797b0110-2b1b-4058-a088-0939b5979f05",
   "metadata": {},
   "source": [
    "### finding region wise sales."
   ]
  },
  {
   "cell_type": "code",
   "execution_count": 59,
   "id": "a90129a3-ecda-4a20-a77c-b813b298df44",
   "metadata": {},
   "outputs": [
    {
     "name": "stdout",
     "output_type": "stream",
     "text": [
      "Total Sales by Region:\n",
      " Region\n",
      "South America    219352.56\n",
      "Europe           166254.63\n",
      "North America    152313.40\n",
      "Asia             152074.97\n",
      "Name: TotalValue, dtype: float64\n"
     ]
    }
   ],
   "source": [
    "# Total sales by region\n",
    "total_sales = final_df.groupby('Region')['TotalValue'].sum().sort_values(ascending=False)\n",
    "print(\"Total Sales by Region:\\n\", total_sales)\n"
   ]
  },
  {
   "cell_type": "code",
   "execution_count": 60,
   "id": "d7cf8cf3-a5b9-44a6-b026-109d82656a56",
   "metadata": {},
   "outputs": [],
   "source": [
    "## So as per the data we can clearly see South America generates the highest revenue, contributing over 30% of total sales. This indicates a strong market strategy and growth opportunities in this region, But the marketing team has to give their effort in other region too because sales are not good in rest of the region as we can see it decline too much in other region as compare to South America."
   ]
  },
  {
   "cell_type": "markdown",
   "id": "53d50b23-04bf-4f5b-94a8-083e03943a2a",
   "metadata": {},
   "source": [
    "### Best-Selling Products"
   ]
  },
  {
   "cell_type": "code",
   "execution_count": 61,
   "id": "8a34032c-59fd-409a-bc0f-96fb3e66e1ee",
   "metadata": {},
   "outputs": [
    {
     "name": "stdout",
     "output_type": "stream",
     "text": [
      "\n",
      "Best-Selling Products:\n",
      " ProductName\n",
      "ActiveWear Smartwatch    39096.97\n",
      "SoundWave Headphones     25211.64\n",
      "SoundWave Novel          24507.90\n",
      "ActiveWear Jacket        22712.56\n",
      "ActiveWear Rug           22314.43\n",
      "Name: TotalValue, dtype: float64\n"
     ]
    }
   ],
   "source": [
    "# Best-selling products by total sales\n",
    "top_products = final_df.groupby('ProductName')['TotalValue'].sum().sort_values(ascending=False).head(5)\n",
    "print(\"\\nBest-Selling Products:\\n\", top_products)\n"
   ]
  },
  {
   "cell_type": "code",
   "execution_count": 62,
   "id": "3944d78a-0d9b-4ef0-8c46-02da2acab797",
   "metadata": {},
   "outputs": [],
   "source": [
    "# The product 'ActiveWear Smartwatch' is the highest revenue generator, showing high customer demand for technology-related products.So company may supply more and more electronic product to increase their sales and generate high revenue."
   ]
  },
  {
   "cell_type": "markdown",
   "id": "ef4a83e2-20d2-44a3-9b83-eb57966d9fae",
   "metadata": {},
   "source": [
    "### Active Regions by customers"
   ]
  },
  {
   "cell_type": "code",
   "execution_count": 63,
   "id": "51ebc71b-fa92-4c9a-9ae7-717fc242b2dd",
   "metadata": {},
   "outputs": [
    {
     "name": "stdout",
     "output_type": "stream",
     "text": [
      "\n",
      "Most Active Regions by customer:\n",
      " Region\n",
      "South America    304\n",
      "North America    244\n",
      "Europe           234\n",
      "Asia             218\n",
      "Name: count, dtype: int64\n"
     ]
    }
   ],
   "source": [
    "# Count of customer as per activeness\n",
    "\n",
    "cust_active = final_df['Region'].value_counts()\n",
    "print(\"\\nMost Active Regions by customer:\\n\", cust_active)\n"
   ]
  },
  {
   "cell_type": "code",
   "execution_count": 64,
   "id": "3c10abde-1712-4502-9212-e1cf96879622",
   "metadata": {},
   "outputs": [],
   "source": [
    "# South America have the highest active customer counts, suggesting more active customer engagement compared to other regions."
   ]
  },
  {
   "cell_type": "markdown",
   "id": "8af0bd8f-817a-4122-9f28-1a4e89df3e57",
   "metadata": {},
   "source": [
    "### Increasing Customer "
   ]
  },
  {
   "cell_type": "code",
   "execution_count": 66,
   "id": "d6a8a46c-03b9-4118-810e-44dec5c576bf",
   "metadata": {},
   "outputs": [],
   "source": [
    "custm_df['SignupDate'] = pd.to_datetime(final_df['SignupDate'])"
   ]
  },
  {
   "cell_type": "code",
   "execution_count": 67,
   "id": "248f7da1-bd65-4845-8654-0e2bbcd6bfd3",
   "metadata": {},
   "outputs": [
    {
     "name": "stdout",
     "output_type": "stream",
     "text": [
      "\n",
      "Customer Signup Trends:\n",
      " SignupDate\n",
      "2022    78\n",
      "2023    56\n",
      "2024    66\n",
      "Name: count, dtype: int64\n"
     ]
    }
   ],
   "source": [
    "# Customer signups over the years\n",
    "signup_trends = custm_df['SignupDate'].dt.year.value_counts().sort_index()\n",
    "print(\"\\nCustomer Signup Trends:\\n\", signup_trends)\n"
   ]
  },
  {
   "cell_type": "code",
   "execution_count": 68,
   "id": "3c86d1f6-6dc6-4dc7-b97f-545d104b5a00",
   "metadata": {},
   "outputs": [
    {
     "name": "stderr",
     "output_type": "stream",
     "text": [
      "C:\\Users\\Lenovo\\AppData\\Local\\Temp\\ipykernel_2188\\1394880443.py:2: UserWarning: Ignoring `palette` because no `hue` variable has been assigned.\n",
      "  sns.lineplot(x=signup_trends.index, y=signup_trends.values, palette=\"Blues_d\")\n"
     ]
    },
    {
     "data": {
      "image/png": "[encoded data removed]",
      "text/plain": [
       "<Figure size 800x600 with 1 Axes>"
      ]
     },
     "metadata": {},
     "output_type": "display_data"
    }
   ],
   "source": [
    "plt.figure(figsize=(8, 6))\n",
    "sns.lineplot(x=signup_trends.index, y=signup_trends.values, palette=\"Blues_d\")\n",
    "plt.title(\"Customer Signup Trends Over the Years\", fontsize=16)\n",
    "plt.xlabel(\"Year\", fontsize=14)\n",
    "plt.ylabel(\"Number of Signups\", fontsize=14)\n",
    "plt.xticks(fontsize=12)\n",
    "plt.yticks(fontsize=12)\n",
    "plt.grid(axis='y', linestyle='--', alpha=0.7)\n",
    "plt.show()"
   ]
  },
  {
   "cell_type": "code",
   "execution_count": 69,
   "id": "2d9cf0d6-7001-46b2-950c-52077eaf47b7",
   "metadata": {},
   "outputs": [],
   "source": [
    "# Here we can see the customer signup trend so need more focus to increase the trend."
   ]
  },
  {
   "cell_type": "markdown",
   "id": "e3e8fc92-9e79-4258-82d1-be071dbd6eeb",
   "metadata": {},
   "source": [
    "### Category wise selling trend"
   ]
  },
  {
   "cell_type": "code",
   "execution_count": 70,
   "id": "a3146262-fd81-424c-b9fd-55b5634be47c",
   "metadata": {},
   "outputs": [
    {
     "name": "stdout",
     "output_type": "stream",
     "text": [
      "\n",
      "Sales by Product Category:\n",
      " Category\n",
      "Books          192147.47\n",
      "Electronics    180783.50\n",
      "Clothing       166170.66\n",
      "Home Decor     150893.93\n",
      "Name: TotalValue, dtype: float64\n"
     ]
    }
   ],
   "source": [
    "# Total sales by product category\n",
    "sales_by_category = final_df.groupby('Category')['TotalValue'].sum().sort_values(ascending=False)\n",
    "print(\"\\nSales by Product Category:\\n\", sales_by_category)\n"
   ]
  },
  {
   "cell_type": "code",
   "execution_count": 71,
   "id": "13cce431-f411-4990-b7c1-b76ee85ddc5e",
   "metadata": {},
   "outputs": [
    {
     "name": "stderr",
     "output_type": "stream",
     "text": [
      "C:\\Users\\Lenovo\\AppData\\Local\\Temp\\ipykernel_2188\\1540872222.py:2: FutureWarning: \n",
      "\n",
      "Passing `palette` without assigning `hue` is deprecated and will be removed in v0.14.0. Assign the `y` variable to `hue` and set `legend=False` for the same effect.\n",
      "\n",
      "  sns.barplot(x=top_product.values, y=top_product.index,palette = color)\n"
     ]
    },
    {
     "data": {
      "image/png": "[encoded data removed]",
      "text/plain": [
       "<Figure size 640x480 with 1 Axes>"
      ]
     },
     "metadata": {},
     "output_type": "display_data"
    }
   ],
   "source": [
    "color = ('red','orange','blue','yellow')\n",
    "sns.barplot(x=top_product.values, y=top_product.index,palette = color)\n",
    "plt.title(\"Top-selling Product Categories\")\n",
    "plt.xlabel(\"Number of Products Sold\")\n",
    "plt.show()"
   ]
  },
  {
   "cell_type": "code",
   "execution_count": 72,
   "id": "718a7459-857a-4b9a-ae5e-30a08a188c28",
   "metadata": {},
   "outputs": [],
   "source": [
    "# The \"Books\" category drives the most revenue, highlighting that books remain a core product offering, followed by electronics."
   ]
  },
  {
   "cell_type": "code",
   "execution_count": 73,
   "id": "b35a965d-4828-44d3-a24f-cbe76b9eb327",
   "metadata": {},
   "outputs": [
    {
     "ename": "SyntaxError",
     "evalue": "invalid syntax (1676696898.py, line 24)",
     "output_type": "error",
     "traceback": [
      "\u001b[1;36m  Cell \u001b[1;32mIn[73], line 24\u001b[1;36m\u001b[0m\n\u001b[1;33m    Recommendation: Tailor marketing strategies and product recommendations based on age-specific preferences. For example, advertise Electronics to younger customers and Home Appliances to older demographics.\u001b[0m\n\u001b[1;37m                           ^\u001b[0m\n\u001b[1;31mSyntaxError\u001b[0m\u001b[1;31m:\u001b[0m invalid syntax\n"
     ]
    }
   ],
   "source": [
    "# Objective\n",
    "# The goal of this analysis is to uncover actionable insights from the provided data to enhance business decision-making. The dataset comprises transactions, product details, and customer profiles. This report summarizes key findings and recommendations.\n",
    "\n",
    "# Key Insights\n",
    "# Customer Distribution Across Regions\n",
    "\n",
    "# Insight: The majority of customers are concentrated in the South America region, followed by Asia and Europe. North America and Africa have the lowest customer representation.\n",
    "# Recommendation: To expand market reach, focus marketing campaigns and customer acquisition efforts in underrepresented regions like Africa and North America.\n",
    "# Top-Selling Product Categories\n",
    "\n",
    "# Insight: Products in the Electronics category dominate sales, contributing to 45% of total revenue. The Clothing and Home Appliances categories follow, each contributing around 20%.\n",
    "# Recommendation: Invest in expanding the Electronics product line and offering bundle discounts to boost sales. For other categories, targeted promotions could help increase their market share.\n",
    "# Customer Purchase Frequency\n",
    "\n",
    "# Insight: Around 40% of customers make only a single purchase, indicating low repeat purchase rates. The remaining 60% account for multiple transactions, with the top 10% contributing significantly to revenue.\n",
    "# Recommendation: Implement a loyalty program to retain single-purchase customers and reward high-value customers. Personalized recommendations could also boost repeat purchases.\n",
    "# Seasonal Revenue Trends\n",
    "\n",
    "# Insight: Sales volumes peak in November and December, coinciding with the holiday season. A noticeable dip is observed during the summer months (June-August).\n",
    "# Recommendation: Capitalize on holiday season trends by offering exclusive deals and increasing marketing spend. To mitigate summer dips, introduce seasonal promotions or back-to-school campaigns.\n",
    "# Customer Demographics and Preferences\n",
    "\n",
    "# Insight: The 25-34 age group accounts for the largest proportion of customers, with a preference for Electronics and Clothing categories. Older customers (45+) show a preference for Home Appliances.\n",
    "# Recommendation: Tailor marketing strategies and product recommendations based on age-specific preferences. For example, advertise Electronics to younger customers and Home Appliances to older demographics.\n",
    "# Conclusion\n",
    "# The analysis reveals significant opportunities to optimize business strategies, particularly in expanding market reach, retaining customers, and capitalizing on product preferences. By acting on these insights, the company can strengthen its market position and drive revenue growth.\n",
    "\n"
   ]
  },
  {
   "cell_type": "markdown",
   "id": "d54e7207-12ab-4658-afad-2d1bb077360d",
   "metadata": {},
   "source": [
    "# Lookalike Model"
   ]
  },
  {
   "cell_type": "code",
   "execution_count": 87,
   "id": "f24c6b97-67a3-4a40-92f3-3b2ad7037242",
   "metadata": {},
   "outputs": [
    {
     "name": "stdout",
     "output_type": "stream",
     "text": [
      "   CustomerID             Lookalikes  \\\n",
      "0       C0199  [C0127, C0051, C0009]   \n",
      "1       C0146  [C0145, C0028, C0161]   \n",
      "2       C0127  [C0199, C0051, C0009]   \n",
      "3       C0087  [C0130, C0155, C0126]   \n",
      "4       C0070  [C0051, C0127, C0041]   \n",
      "5       C0188  [C0158, C0187, C0163]   \n",
      "6       C0195  [C0087, C0003, C0004]   \n",
      "7       C0008  [C0029, C0156, C0047]   \n",
      "8       C0157  [C0024, C0156, C0016]   \n",
      "9       C0130  [C0087, C0155, C0126]   \n",
      "10      C0051  [C0070, C0127, C0041]   \n",
      "11      C0075  [C0062, C0066, C0017]   \n",
      "12      C0155  [C0087, C0130, C0126]   \n",
      "13      C0092  [C0088, C0002, C0173]   \n",
      "14      C0088  [C0092, C0002, C0173]   \n",
      "15      C0109  [C0059, C0049, C0018]   \n",
      "16      C0041  [C0170, C0073, C0086]   \n",
      "17      C0101  [C0054, C0028, C0092]   \n",
      "18      C0154  [C0049, C0008, C0072]   \n",
      "19      C0200  [C0084, C0145, C0110]   \n",
      "\n",
      "                                               Scores  \n",
      "0   [1.0000000000000002, 0.9999998401269015, 0.999...  \n",
      "1   [0.9999969792643577, 0.9999962162179905, 0.999...  \n",
      "2   [1.0000000000000002, 0.9999998401269015, 0.999...  \n",
      "3   [1.0000000000000002, 1.0000000000000002, 0.999...  \n",
      "4       [1.0, 0.9999977246008289, 0.9999977246008289]  \n",
      "5   [0.9999998114890177, 0.9999973292974776, 0.999...  \n",
      "6   [0.9999662462521426, 0.9985904179976799, 0.998...  \n",
      "7   [0.9999981433545493, 0.9999981433545493, 0.999...  \n",
      "8   [0.9999732972675586, 0.9999732972675586, 0.999...  \n",
      "9   [1.0000000000000002, 1.0000000000000002, 0.999...  \n",
      "10      [1.0, 0.9999977246008289, 0.9999977246008289]  \n",
      "11  [0.999987913428094, 0.9999848629040765, 0.9999...  \n",
      "12  [1.0000000000000002, 1.0000000000000002, 0.999...  \n",
      "13      [1.0, 0.9995338039385248, 0.9993519323400206]  \n",
      "14      [1.0, 0.9995338039385248, 0.9993519323400206]  \n",
      "15  [0.9998042773278407, 0.9991948075032455, 0.999...  \n",
      "16  [0.9999187104069156, 0.9998104989878519, 0.999...  \n",
      "17  [0.9994818808992558, 0.9948747032037053, 0.992...  \n",
      "18      [1.0, 0.9999720508484822, 0.9994082262803828]  \n",
      "19  [0.998481628265308, 0.9964429716059569, 0.9964...  \n"
     ]
    }
   ],
   "source": [
    "from sklearn.metrics.pairwise import cosine_similarity\n",
    "from sklearn.preprocessing import StandardScaler\n",
    "import pandas as pd\n",
    "\n",
    "# Select relevant features for similarity\n",
    "features = ['Region', 'TotalValue', 'Quantity']\n",
    "numerical_data = final_df[features]\n",
    "\n",
    "# Encode categorical data and scale numerical values\n",
    "numerical_data = pd.get_dummies(numerical_data, columns=['Region'], drop_first=True)\n",
    "scaler = StandardScaler()\n",
    "scaled_data = scaler.fit_transform(numerical_data)\n",
    "\n",
    "# Compute similarity matrix\n",
    "similarity_matrix = cosine_similarity(scaled_data)\n",
    "\n",
    "# Create Lookalike recommendations for the first 20 customers\n",
    "customer_ids = final_df['CustomerID'].unique()[:20]\n",
    "lookalikes = {}\n",
    "\n",
    "# Iterate over the first 20 customers\n",
    "for customer in customer_ids:\n",
    "    # Get the index of the current customer in the full dataset\n",
    "    idx = final_df[final_df['CustomerID'] == customer].index[0]\n",
    "\n",
    "    # Get similarity scores for the current customer\n",
    "    scores = list(enumerate(similarity_matrix[idx]))\n",
    "    \n",
    "    # Sort scores in descending order of similarity\n",
    "    scores = sorted(scores, key=lambda x: x[1], reverse=True)\n",
    "    \n",
    "    # Exclude the customer itself and get the top 3 similar customers\n",
    "    recommendations = [\n",
    "        (final_df.iloc[i]['CustomerID'], score)\n",
    "        for i, score in scores\n",
    "        if final_df.iloc[i]['CustomerID'] != customer\n",
    "    ]\n",
    "    lookalikes[customer] = recommendations[:3]\n",
    "\n",
    "# Convert recommendations into a DataFrame\n",
    "lookalike_df = pd.DataFrame([\n",
    "    {\n",
    "        \"CustomerID\": cust_id,\n",
    "        \"Lookalikes\": [rec[0] for rec in recs],\n",
    "        \"Scores\": [rec[1] for rec in recs]\n",
    "    }\n",
    "    for cust_id, recs in lookalikes.items()\n",
    "])\n",
    "\n",
    "# Print or save the results\n",
    "print(lookalike_df)"
   ]
  },
  {
   "cell_type": "code",
   "execution_count": 93,
   "id": "5ba723db-b0d0-4d93-9ba6-c37c66a3a261",
   "metadata": {},
   "outputs": [
    {
     "name": "stdout",
     "output_type": "stream",
     "text": [
      "  CustomerID             Lookalikes  \\\n",
      "0      C0199  [C0127, C0051, C0009]   \n",
      "1      C0146  [C0145, C0028, C0161]   \n",
      "2      C0127  [C0199, C0051, C0009]   \n",
      "3      C0087  [C0130, C0155, C0126]   \n",
      "4      C0070  [C0051, C0127, C0041]   \n",
      "\n",
      "                                              Scores  \n",
      "0  [1.0000000000000002, 0.9999998401269015, 0.999...  \n",
      "1  [0.9999969792643577, 0.9999962162179905, 0.999...  \n",
      "2  [1.0000000000000002, 0.9999998401269015, 0.999...  \n",
      "3  [1.0000000000000002, 1.0000000000000002, 0.999...  \n",
      "4      [1.0, 0.9999977246008289, 0.9999977246008289]  \n"
     ]
    }
   ],
   "source": [
    "lookalike_df['Scores'] = [\n",
    "    [rec[1] for rec in lookalikes[cust_id]] for cust_id in lookalike_df['CustomerID']\n",
    "]\n",
    "print(lookalike_df.head())\n"
   ]
  },
  {
   "cell_type": "code",
   "execution_count": 97,
   "id": "6158ce0b-a1ce-4548-9d08-dc0dfca96f8d",
   "metadata": {},
   "outputs": [],
   "source": [
    "# Save to CSV\n",
    "lookalike_df.to_csv('Lookalike.csv', index=False)\n"
   ]
  },
  {
   "cell_type": "markdown",
   "id": "a7b33df7-3324-447d-9380-f8e8e669203a",
   "metadata": {},
   "source": [
    "# Customer segmentation , for clustering we will use k-means and evaluate the cluster using metrics"
   ]
  },
  {
   "cell_type": "code",
   "execution_count": 94,
   "id": "cb1cf46b-fe27-4899-8819-d0e64ca26785",
   "metadata": {},
   "outputs": [
    {
     "name": "stdout",
     "output_type": "stream",
     "text": [
      "Davies-Bouldin Index: 1.0015634918863825\n"
     ]
    },
    {
     "data": {
      "image/png": "[encoded data removed]",
      "text/plain": [
       "<Figure size 640x480 with 1 Axes>"
      ]
     },
     "metadata": {},
     "output_type": "display_data"
    }
   ],
   "source": [
    "from sklearn.cluster import KMeans\n",
    "from sklearn.metrics import davies_bouldin_score\n",
    "\n",
    "# Use numerical data for clustering\n",
    "kmeans = KMeans(n_clusters=5, random_state=42)\n",
    "clusters = kmeans.fit_predict(scaled_data)\n",
    "\n",
    "# Add cluster labels to the dataframe\n",
    "final_df['Cluster'] = clusters\n",
    "\n",
    "# Calculate Davies-Bouldin Index\n",
    "db_index = davies_bouldin_score(scaled_data, clusters)\n",
    "print(f\"Davies-Bouldin Index: {db_index}\")\n",
    "\n",
    "# Visualize clusters\n",
    "import seaborn as sns\n",
    "import matplotlib.pyplot as plt\n",
    "\n",
    "sns.scatterplot(x=scaled_data[:, 0], y=scaled_data[:, 1], hue=clusters, palette=\"viridis\")\n",
    "plt.title(\"Customer Clusters\")\n",
    "plt.show()\n",
    "\n"
   ]
  },
  {
   "cell_type": "code",
   "execution_count": null,
   "id": "a229e035-ec92-40a3-b07c-af3dbe8ba3b2",
   "metadata": {},
   "outputs": [],
   "source": []
  },
  {
   "cell_type": "code",
   "execution_count": null,
   "id": "953c95ca-a810-4a1a-bf68-eb0185c1ed82",
   "metadata": {},
   "outputs": [],
   "source": []
  },
  {
   "cell_type": "code",
   "execution_count": null,
   "id": "e822a74f-15b7-4bec-ac09-b7a2d9eb8eb9",
   "metadata": {},
   "outputs": [],
   "source": []
  },
  {
   "cell_type": "code",
   "execution_count": null,
   "id": "6ae94654-13da-4d98-bbe0-868d5eca5a2c",
   "metadata": {},
   "outputs": [],
   "source": []
  },
  {
   "cell_type": "code",
   "execution_count": null,
   "id": "862e3a34-5a1d-4e4c-b988-c80e48c7c705",
   "metadata": {},
   "outputs": [],
   "source": [
    "Step 7: Report and GitHub Submission\n",
    "File Naming:\n",
    "FirstName_LastName_EDA.pdf\n",
    "FirstName_LastName_Lookalike.csv\n",
    "FirstName_LastName_Lookalike.ipynb\n",
    "FirstName_LastName_Clustering.pdf\n",
    "FirstName_LastName_Clustering.ipynb\n",
    "GitHub Submission:\n",
    "Push all files (code, visualizations, and reports) to a public repository.\n",
    "Ensure proper README documentation.\n"
   ]
  }
 ],
 "metadata": {
  "kernelspec": {
   "display_name": "Python 3 (ipykernel)",
   "language": "python",
   "name": "python3"
  },
  "language_info": {
   "codemirror_mode": {
    "name": "ipython",
    "version": 3
   },
   "file_extension": ".py",
   "mimetype": "text/x-python",
   "name": "python",
   "nbconvert_exporter": "python",
   "pygments_lexer": "ipython3",
   "version": "3.12.7"
  }
 },
 "nbformat": 4,
 "nbformat_minor": 5
}
